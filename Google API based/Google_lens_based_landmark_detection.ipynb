{
  "nbformat": 4,
  "nbformat_minor": 0,
  "metadata": {
    "colab": {
      "name": "Google lens based landmark detection.ipynb",
      "provenance": [],
      "authorship_tag": "ABX9TyNlMB4CK9jPhf5GymaKUqSX",
      "include_colab_link": true
    },
    "kernelspec": {
      "name": "python3",
      "display_name": "Python 3"
    },
    "language_info": {
      "name": "python"
    }
  },
  "cells": [
    {
      "cell_type": "markdown",
      "metadata": {
        "id": "view-in-github",
        "colab_type": "text"
      },
      "source": [
        "<a href=\"https://colab.research.google.com/github/aayushkumar20/ML-based-projects./blob/main/Google%20API%20based/Google_lens_based_landmark_detection.ipynb\" target=\"_parent\"><img src=\"https://colab.research.google.com/assets/colab-badge.svg\" alt=\"Open In Colab\"/></a>"
      ]
    },
    {
      "cell_type": "code",
      "execution_count": null,
      "metadata": {
        "id": "lphIvC0FuftY"
      },
      "outputs": [],
      "source": [
        "#Install this first for complete functioning\n",
        "\n",
        "pip install -q gradio"
      ]
    },
    {
      "cell_type": "code",
      "source": [
        "# Modules required for the complition\n",
        "# Importing the modules\n",
        "\n",
        "import numpy as np\n",
        "import pandas as pd\n",
        "import matplotlib.pylab as plt\n",
        "import gradio as gr\n",
        "import PIL.Image as Image\n",
        "import tensorflow as tf\n",
        "import tensorflow_hub as hub"
      ],
      "metadata": {
        "id": "OpzqQ7C5u1UG"
      },
      "execution_count": null,
      "outputs": []
    },
    {
      "cell_type": "markdown",
      "source": [
        "**Make sure to install all the modules and 'gradio modules' before running**"
      ],
      "metadata": {
        "id": "LvD6Ae4TyWof"
      }
    },
    {
      "cell_type": "code",
      "source": [
        "TF_MODEL_URL='https://tfhub.dev/google/on_device_vision/classifier/landmarks_classifier_asia_V1/1'\n",
        "LABEL_MAP_URL='https://www.gstatic.com/aihub/tfhub/labelmaps/landmarks_classifier_asia_V1_label_map.csv'\n",
        "IMAGE_SHAPE=(500, 500)"
      ],
      "metadata": {
        "id": "p-1s7BfTvSnq"
      },
      "execution_count": null,
      "outputs": []
    },
    {
      "cell_type": "code",
      "source": [
        "classifier=tf.keras.Sequential([hub.kerasLayer(TF_MODEL_URL, input_shape=IMAGE_SHAPE+(3,),output_key=\"predictions:logits\")])"
      ],
      "metadata": {
        "id": "Z6Uk-cB0v2n-"
      },
      "execution_count": null,
      "outputs": []
    },
    {
      "cell_type": "code",
      "source": [
        "df=pd.read_csv(LABEL_MAP_URL)"
      ],
      "metadata": {
        "id": "KpdagHi5v-8i"
      },
      "execution_count": null,
      "outputs": []
    },
    {
      "cell_type": "code",
      "source": [
        "label_map=dict(zip(df.id,df.name))"
      ],
      "metadata": {
        "id": "QRYcjzmjwOyJ"
      },
      "execution_count": null,
      "outputs": []
    },
    {
      "cell_type": "code",
      "source": [
        "label_map=dict(zip(df.id, df.name))"
      ],
      "metadata": {
        "id": "QNokCGgUway6"
      },
      "execution_count": null,
      "outputs": []
    },
    {
      "cell_type": "code",
      "source": [
        "img_loc=\"Image.jpeg\" # Change this to the location of your image including directory."
      ],
      "metadata": {
        "id": "ORQD5nfywi7q"
      },
      "execution_count": null,
      "outputs": []
    },
    {
      "cell_type": "code",
      "source": [
        "img=Image.open(img_loc).resize(IMAGE_SHAPE)"
      ],
      "metadata": {
        "id": "FkabHBulw-qe"
      },
      "execution_count": null,
      "outputs": []
    },
    {
      "cell_type": "code",
      "source": [
        "img"
      ],
      "metadata": {
        "id": "etwdkayFxQjr"
      },
      "execution_count": null,
      "outputs": []
    },
    {
      "cell_type": "code",
      "source": [
        "img=np.array(img)/255.0\n",
        "img.shape"
      ],
      "metadata": {
        "id": "wY9Z_rUDxXmq"
      },
      "execution_count": null,
      "outputs": []
    },
    {
      "cell_type": "code",
      "source": [
        "result=classifier.predict(img)"
      ],
      "metadata": {
        "id": "JP4sDcu8xguV"
      },
      "execution_count": null,
      "outputs": []
    },
    {
      "cell_type": "code",
      "source": [
        "result\n",
        "label_map[np.argmax(result)]"
      ],
      "metadata": {
        "id": "ohdWV7WnxnRN"
      },
      "execution_count": null,
      "outputs": []
    },
    {
      "cell_type": "markdown",
      "source": [
        "**Defining the prediction function**"
      ],
      "metadata": {
        "id": "jnESmvdJxwWf"
      }
    },
    {
      "cell_type": "code",
      "source": [
        "class_names=list(label_map.values())"
      ],
      "metadata": {
        "id": "v5qnBnJyx2ok"
      },
      "execution_count": null,
      "outputs": []
    },
    {
      "cell_type": "code",
      "source": [
        "def classify_image(image):\n",
        "    img=np.array(image)/255.0\n",
        "    img=img[np.newaxis,...]\n",
        "    prediction=classifier.predict(img)\n",
        "    return label_map[np.argmax(prediction)]"
      ],
      "metadata": {
        "id": "UpznlG1Jx9k4"
      },
      "execution_count": null,
      "outputs": []
    },
    {
      "cell_type": "markdown",
      "source": [
        "**UI for ease to use**"
      ],
      "metadata": {
        "id": "7N241Fm2yDdI"
      }
    },
    {
      "cell_type": "code",
      "source": [
        "image=gr.inputs.image(shape=(500, 500))\n",
        "label=gr.outputs.label(num_top_classes=1)\n",
        "\n",
        "gr.Interface(\n",
        "    classify_image,\n",
        "    image,\n",
        "    label,\n",
        "    capture_session=True,).launch(debug=True);"
      ],
      "metadata": {
        "id": "L3okFRV_yKyQ"
      },
      "execution_count": null,
      "outputs": []
    }
  ]
}
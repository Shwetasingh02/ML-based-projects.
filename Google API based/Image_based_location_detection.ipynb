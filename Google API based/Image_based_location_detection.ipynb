{
  "nbformat": 4,
  "nbformat_minor": 0,
  "metadata": {
    "colab": {
      "name": "Image based location detection.ipynb",
      "provenance": [],
      "authorship_tag": "ABX9TyPDUxNFUC2lb3REKjM3gurd",
      "include_colab_link": true
    },
    "kernelspec": {
      "name": "python3",
      "display_name": "Python 3"
    },
    "language_info": {
      "name": "python"
    }
  },
  "cells": [
    {
      "cell_type": "markdown",
      "metadata": {
        "id": "view-in-github",
        "colab_type": "text"
      },
      "source": [
        "<a href=\"https://colab.research.google.com/github/aayushkumar20/ML-based-projects./blob/main/Google%20API%20based/Image_based_location_detection.ipynb\" target=\"_parent\"><img src=\"https://colab.research.google.com/assets/colab-badge.svg\" alt=\"Open In Colab\"/></a>"
      ]
    },
    {
      "cell_type": "code",
      "execution_count": null,
      "metadata": {
        "id": "7tPR_DGwRILL"
      },
      "outputs": [],
      "source": [
        "#Install this first for complete functioning\n",
        "!pip install -q gradio\n",
        "#pip install \"tf-nightly\" \n",
        "#There might be some issue with the older version of Tensorflow \n",
        "#If the interpreter shows some error then please try to install (!pip install \"tf-nightly\") and re interprete it.\n",
        "#Like \"module 'tensorflow_hub' has no attribute 'KerasLayer'\""
      ]
    },
    {
      "cell_type": "code",
      "source": [
        "# Modules required for the complition\n",
        "# Importing the modules\n",
        "\n",
        "import numpy as np\n",
        "import pandas as pd\n",
        "import matplotlib.pylab as plt\n",
        "import gradio as gr\n",
        "import PIL.Image as Image\n",
        "import tensorflow as tf\n",
        "import tensorflow_hub as hub"
      ],
      "metadata": {
        "id": "RMN-N0OMR1-V"
      },
      "execution_count": null,
      "outputs": []
    },
    {
      "cell_type": "markdown",
      "source": [
        "**Make sure to install all the modules and 'gradio modules' before interpreting.**"
      ],
      "metadata": {
        "id": "4nL5vTLoSpgV"
      }
    },
    {
      "cell_type": "code",
      "source": [
        "TF_MODEL_URL='https://tfhub.dev/google/on_device_vision/classifier/landmarks_classifier_asia_V1/1'\n",
        "LABEL_MAP_URL='https://www.gstatic.com/aihub/tfhub/labelmaps/landmarks_classifier_asia_V1_label_map.csv'\n",
        "IMAGE_SHAPE=(500, 500)"
      ],
      "metadata": {
        "id": "I81xceoySnvk"
      },
      "execution_count": null,
      "outputs": []
    },
    {
      "cell_type": "code",
      "source": [
        "classifier = tf.keras.Sequential([hub.KerasLayer(TF_MODEL_URL,\n",
        "                                                 input_shape=IMAGE_SHAPE+(3,),\n",
        "                                                 output_key=\"predictions:logits\")])"
      ],
      "metadata": {
        "id": "EOAJcws3TEvD"
      },
      "execution_count": null,
      "outputs": []
    },
    {
      "cell_type": "code",
      "source": [
        "df = pd.read_csv(LABEL_MAP_URL)"
      ],
      "metadata": {
        "id": "jMVLV4SOTKev"
      },
      "execution_count": null,
      "outputs": []
    },
    {
      "cell_type": "code",
      "source": [
        "label_map = dict(zip(df.id, df.name))"
      ],
      "metadata": {
        "id": "tuOyIPDDTRsw"
      },
      "execution_count": null,
      "outputs": []
    },
    {
      "cell_type": "code",
      "source": [
        "img_loc = \"Image.jpeg\" #Please change this to the location of your image including directory.\n",
        "#In case you are using it on your windows machine please mention the entire path.\n",
        "#Please make sure you have the same name of image as above i.e.(Image.jpeg) you can rename it as your choice.\n",
        "#In case you are using it on \"google colab\" then please make sure that you have mounted the image file and also the mounting location with file name."
      ],
      "metadata": {
        "id": "95nxijsATXxD"
      },
      "execution_count": null,
      "outputs": []
    },
    {
      "cell_type": "code",
      "source": [
        "img=Image.open(img_loc).resize(IMAGE_SHAPE)"
      ],
      "metadata": {
        "id": "fDjcQJpiTmDl"
      },
      "execution_count": null,
      "outputs": []
    },
    {
      "cell_type": "markdown",
      "source": [
        "**in order to check whether your image is sucessfully added you can type (img)**"
      ],
      "metadata": {
        "id": "eWFHk9rSWAd6"
      }
    },
    {
      "cell_type": "code",
      "source": [
        "img\n",
        "#to check\n",
        "#if not detected the please try to follow the instruction in the above 2 lines."
      ],
      "metadata": {
        "id": "Wco7WxGLWPPD"
      },
      "execution_count": null,
      "outputs": []
    },
    {
      "cell_type": "code",
      "source": [
        "img = np.array(img)/255.0\n",
        "img.shape"
      ],
      "metadata": {
        "id": "rne_u1LcWSCl"
      },
      "execution_count": null,
      "outputs": []
    },
    {
      "cell_type": "code",
      "source": [
        "img = img[np.newaxis, ...]"
      ],
      "metadata": {
        "id": "Pzt5W-UlWybh"
      },
      "execution_count": null,
      "outputs": []
    },
    {
      "cell_type": "code",
      "source": [
        "result=classifier.predict(img)"
      ],
      "metadata": {
        "id": "ipBGOUtxWzhm"
      },
      "execution_count": null,
      "outputs": []
    },
    {
      "cell_type": "code",
      "source": [
        "result\n",
        "#it'll contain the probablity values and length of the model."
      ],
      "metadata": {
        "id": "MUydFKWRW6ol"
      },
      "execution_count": null,
      "outputs": []
    },
    {
      "cell_type": "code",
      "source": [
        "label_map[np.argmax(result)]\n",
        "#it'll predict the location by using the \"classifier.predict\""
      ],
      "metadata": {
        "id": "L_fm3c-FW9XC"
      },
      "execution_count": null,
      "outputs": []
    },
    {
      "cell_type": "code",
      "source": [
        "class_names=list(label_map.values())"
      ],
      "metadata": {
        "id": "RxZRN7rtXUtO"
      },
      "execution_count": null,
      "outputs": []
    },
    {
      "cell_type": "code",
      "source": [
        "def classify_image(image):\n",
        "    img = np.array(image)/255.0\n",
        "    img = img[np.newaxis, ...]\n",
        "    prediction = classifier.predict(img)\n",
        "    return label_map[np.argmax(prediction)]"
      ],
      "metadata": {
        "id": "S_gD-MHHX30f"
      },
      "execution_count": null,
      "outputs": []
    },
    {
      "cell_type": "markdown",
      "source": [
        "**UI for user interaction**"
      ],
      "metadata": {
        "id": "7mPYRcCFYO5F"
      }
    },
    {
      "cell_type": "code",
      "source": [
        "image=gr.inputs.image(shape=(500, 500)) #input"
      ],
      "metadata": {
        "id": "KwhrLTRRYlmf"
      },
      "execution_count": null,
      "outputs": []
    },
    {
      "cell_type": "code",
      "source": [
        "label=gr.outputs.label(num_top_classes=1)\n",
        "\n",
        "gr.Interface(\n",
        "    classify_image,\n",
        "    image,\n",
        "    label,\n",
        "    capture_session=True,).launch(debug=True);"
      ],
      "metadata": {
        "id": "FIOkM3drYLjw"
      },
      "execution_count": null,
      "outputs": []
    }
  ]
}
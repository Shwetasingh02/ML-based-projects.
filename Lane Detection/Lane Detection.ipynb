{
  "nbformat": 4,
  "nbformat_minor": 0,
  "metadata": {
    "colab": {
      "name": "Untitled4.ipynb",
      "provenance": [],
      "collapsed_sections": [],
      "authorship_tag": "ABX9TyNdJp6UiqkM/vOTu7+42jn7",
      "include_colab_link": true
    },
    "kernelspec": {
      "name": "python3",
      "display_name": "Python 3"
    },
    "language_info": {
      "name": "python"
    }
  },
  "cells": [
    {
      "cell_type": "markdown",
      "metadata": {
        "id": "view-in-github",
        "colab_type": "text"
      },
      "source": [
        "<a href=\"https://colab.research.google.com/github/aayushkumar20/ML-based-projects./blob/main/Lane%20Detection/Lane%20Detection.ipynb\" target=\"_parent\"><img src=\"https://colab.research.google.com/assets/colab-badge.svg\" alt=\"Open In Colab\"/></a>"
      ]
    },
    {
      "cell_type": "code",
      "source": [
        "!import os\n",
        "!import numpy as np\n",
        "!import tkinter as tk\n",
        "!import cv2\n",
        "\n",
        "#Importing all the required modules on the local python environment.\n",
        "#Please make sure that you have installed all the modules properly.\n",
        "#Missing these all modules or a part of modules cam create some error."
      ],
      "metadata": {
        "id": "fi5KhRVHydU3"
      },
      "execution_count": null,
      "outputs": []
    },
    {
      "cell_type": "code",
      "source": [
        "from tkinter import *\n",
        "from PIL import Image, ImageTk\n",
        "\n",
        "#Importing the required part from the insatlled modules.\n",
        "#type or copy it correctly. "
      ],
      "metadata": {
        "id": "2Xu4Cwl4ylGk"
      },
      "execution_count": null,
      "outputs": []
    },
    {
      "cell_type": "code",
      "source": [
        "global last_frame1 #global variable to store the last frame\n",
        "last_frame1 = np.zeros((480,640,3), np.uint8)\n",
        "global last_frame2 #global variable to store the last frame\n",
        "last_frame2 = np.zeros((480,640,3), np.uint8)\n",
        "global cap1 #global variable to store the video capture object\n",
        "global cap2 #global variable to store the video capture object\n",
        "cap1=cv2.VideoCapture(\"./videos/video1.mp4\") #Change the path to your video file\n",
        "cap2=cv2.VideoCapture(\"./videos/video2.mp4\") #Change the path to your video file\n",
        "\n",
        "#In case you are using a linux machine or a unix based machine \n",
        "#Please specify the camera module location or the port associated with the camera module."
      ],
      "metadata": {
        "id": "ncQMsgnkyviP"
      },
      "execution_count": null,
      "outputs": []
    },
    {
      "cell_type": "code",
      "source": [
        "#Defining the first camera module for video capture and the properties related to the camera module.\n",
        "\n",
        "def show_vid():\n",
        "    if not cap1.isOpened():\n",
        "        print(\"Error opening video stream or file\")\n",
        "    flag1, frame1 = cap1.read()\n",
        "    frame1=cv2.resize(frame1,(640,480))\n",
        "    if flag1 is None:\n",
        "        print(\"No frame read\")\n",
        "    elif flag1:\n",
        "        global last_frame1\n",
        "        last_frame1=frame1.copy()\n",
        "        pic=cv2.cvtColor(frame1,cv2.COLOR_BGR2RGB)\n",
        "        img=Image.fromarray(pic)\n",
        "        imgtk=ImageTk.PhotoImage(image=img)\n",
        "        lmain1.imgtk=imgtk  #Shows frame for first video\n",
        "        lmain1.configure(image=imgtk)\n",
        "        lmain1.after(10,show_vid)"
      ],
      "metadata": {
        "id": "MmNQFbxp7HgC"
      },
      "execution_count": null,
      "outputs": []
    },
    {
      "cell_type": "code",
      "source": [
        "#Defining the second camera modules for video capture and the properties related to the second modules.\n",
        "\n",
        "def show_vid2():\n",
        "    if not cap2.isOpened():\n",
        "        print(\"Error opening video stream or file\")\n",
        "    flag2, frame2 = cap2.read()\n",
        "    frame2=cv2.resize(frame2,(640,480))\n",
        "    if flag2 is None:\n",
        "        print(\"No frame read\")\n",
        "    elif flag2:\n",
        "        global last_frame2\n",
        "        last_frame2=frame2.copy()\n",
        "        pic=cv2.cvtColor(frame2,cv2.COLOR_BGR2RGB)\n",
        "        img=Image.fromarray(pic)\n",
        "        imgtk=ImageTk.PhotoImage(image=img)\n",
        "        lmain2.imgtk=imgtk  #Shows frame for second video\n",
        "        lmain2.configure(image=imgtk)\n",
        "        lmain2.after(10,show_vid2)"
      ],
      "metadata": {
        "id": "iVXoxoqU7j3M"
      },
      "execution_count": null,
      "outputs": []
    },
    {
      "cell_type": "code",
      "source": [
        "if __name__ == '__main__':\n",
        "    root=tk.Tk()\n",
        "    img=ImageTk.PhotoImage(Image.open(\"logo.png\"))\n",
        "    heading=Label(root,image=img,bg=\"black\",text=\"Video Comparison\",fg=\"white\",font=(\"Helvetica\",20))\n",
        "    #heading.pack(background=\"black\",fill=BOTH)\n",
        "    heading.pack()\n",
        "    heading2=Label(root,pady=20,text=\"Video 1\",font=(\"Helvetica\",20))\n",
        "        heading2.configure(background=\"black\",fg=\"white\")\n",
        "    heading2.pack()\n",
        "    lmain1=tk.Label(master=root)\n",
        "    lmain2=tk.Label(master=root)\n",
        "\n",
        "    lmain1.pack(side=LEFT)\n",
        "    lmain2.pack(side=RIGHT)\n",
        "    root.title(\"Lanne Detector\")\n",
        "    root.geometry(\"1280x720\")\n",
        "\n",
        "    exitbutton=Button(root,text=\"Exit\",command=root.destroy,font=(\"Helvetica\",20),fg=\"red\").pack(side=BOTTOM)\n",
        "    show_vid()\n",
        "    show_vid2()\n",
        "    root.mainloop()\n",
        "    cap1.release()"
      ],
      "metadata": {
        "id": "cqTRF2_F72SB"
      },
      "execution_count": null,
      "outputs": []
    }
  ]
}
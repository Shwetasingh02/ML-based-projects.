{
  "nbformat": 4,
  "nbformat_minor": 0,
  "metadata": {
    "colab": {
      "name": "Brightness control.ipynb",
      "provenance": [],
      "authorship_tag": "ABX9TyNRzJgNKlkaFpMUojLk3qYl",
      "include_colab_link": true
    },
    "kernelspec": {
      "name": "python3",
      "display_name": "Python 3"
    },
    "language_info": {
      "name": "python"
    }
  },
  "cells": [
    {
      "cell_type": "markdown",
      "metadata": {
        "id": "view-in-github",
        "colab_type": "text"
      },
      "source": [
        "<a href=\"https://colab.research.google.com/github/aayushkumar20/ML-based-projects./blob/main/Brightness%20control/Brightness_control.ipynb\" target=\"_parent\"><img src=\"https://colab.research.google.com/assets/colab-badge.svg\" alt=\"Open In Colab\"/></a>"
      ]
    },
    {
      "cell_type": "code",
      "metadata": {
        "id": "OZ_aSe-lc_tV"
      },
      "source": [
        "import cv2\n",
        "import mediapipe as mp\n",
        "from math import hypot\n",
        "import screen_brightness_control as sbc\n",
        "import numpy as np\n",
        "cap=cv2.VideoCapture(0)\n",
        "mpHands=mp.solutions.Hands()\n",
        "hands=mpHands.Hands()\n",
        "mp.Draw=mp.solutions.drawing_utils\n",
        "while True:\n",
        "    success,img=cap.read()\n",
        "    imgRGB=cv2.cvtColor(img,cv2,COLOR_BGR2RGB)\n",
        "    result=mpHands.prosess(imgRGB)\n",
        "    lmList=[]\n",
        "    if result.multi_hand_landmark:\n",
        "        for handlandmark in result.multi_hand_landmarks:\n",
        "            for id,lm in enumerate(handlandmark.landmarks):\n",
        "                h,w,=img.shape[:2]\n",
        "                cx,cy=int(lm.x*w),int(lm.y*h)\n",
        "                lmList.append([id,cx,cy])\n",
        "            mp.draw_landmarks(img,handlandmark,mpHands.HAND_CONNECTIONS)\n",
        "    if lmList!=[]:\n",
        "        x1,y1=lmList[4][1],lmList[4][2]\n",
        "        x2,y2=lmList[5][1],lmList[5][2]\n",
        "        cv2.circle(img,(x1,y1),4,(255,0,0),cv2.FILLED)\n",
        "        cv2.circle(img,(x2,y2),4,(255,0,0),cv2.FILLED)\n",
        "        cv2.line(img,(x1,y1),(x2,y2),(255,0,0),3)\n",
        "        length=hypot(x2-x1,y2-y1)\n",
        "        bright=np.interp(length,[15,220],[0,100])\n",
        "        print(bright,length)\n",
        "        sbc.set_brightness(int(bright))\n",
        "    cv2.imshow('image',img)\n",
        "    if cv2.waitKey(1) & 0xFF==ord('q'):\n",
        "        break"
      ],
      "execution_count": null,
      "outputs": []
    }
  ]
}
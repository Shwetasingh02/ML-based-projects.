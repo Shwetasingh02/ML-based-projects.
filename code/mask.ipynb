{
  "nbformat": 4,
  "nbformat_minor": 0,
  "metadata": {
    "colab": {
      "name": "mask.ipynb",
      "provenance": [],
      "authorship_tag": "ABX9TyMsy00X6Q4umE4583WMk/+q",
      "include_colab_link": true
    },
    "kernelspec": {
      "name": "python3",
      "display_name": "Python 3"
    },
    "language_info": {
      "name": "python"
    }
  },
  "cells": [
    {
      "cell_type": "markdown",
      "metadata": {
        "id": "view-in-github",
        "colab_type": "text"
      },
      "source": [
        "<a href=\"https://colab.research.google.com/github/aayushkumar20/ML-based-mask-checker./blob/main/code/mask.ipynb\" target=\"_parent\"><img src=\"https://colab.research.google.com/assets/colab-badge.svg\" alt=\"Open In Colab\"/></a>"
      ]
    },
    {
      "cell_type": "code",
      "metadata": {
        "id": "vvsfDJiyErDd"
      },
      "source": [
        "from tensorflow.keras.applications.mobilenet_v2 import preprocess_input\n",
        "from tensorflow.keras.preprocessing.image import img_to_array\n",
        "from tensorflow.keras.models import load_model\n",
        "from imutils.video import VideoStream\n",
        "import numpy as np\n",
        "import imutils\n",
        "import cv2\n",
        "import time\n",
        "import os\n",
        "\n",
        "def detect_and_predict_mask(frame,faceNet,maskNet):\n",
        "    (h,w)=frame.shape[:2]\n",
        "    blob=cv2.dnn.blobFromImage(frame,1.0,(224,224),(104.0,177.0,123.0))\n",
        "    faceNet.setInput(blob)\n",
        "    detections=faceNet.foreward(blob)\n",
        "    print(detections.shape)\n",
        "    faces=[]\n",
        "    locs=[]\n",
        "    preds=[]\n",
        "    for i in range(0,detections.shape[2]):\n",
        "        confidence=detections[0,0,i,2]\n",
        "        if confidence>0.5:\n",
        "            box=detections[0,0,i,3:7]*np.array([w,h,w,h])\n",
        "            (startX,startY,endX,endY)=box.astype(\"int\")\n",
        "            (startX,startY)=(max(0,startX),max(0,startY))\n",
        "            (endX,endY)=(min(w-1,endX),(w-1,endY))\n",
        "            face=frame[startY:endY,startX:endX]\n",
        "            face=cv2.cvtColor(face,cv2.COLOR_BGR2RBG)\n",
        "            face=cv2.resize(face,(224,224))\n",
        "            face=img_to_array(face)\n",
        "\n",
        "            faces.append(face)\n",
        "            locs.append((startX,startY,endX,endY))\n",
        "\n",
        "    if len(faces)>0:\n",
        "        faces=np.array(faces,dtype=\"float32\")\n",
        "        faces=preprocess_input(faces)\n",
        "        preds=maskNet.predict(faces,batch_size=32)\n",
        "    return(locs,preds)\n",
        "\n",
        "prototxtPath=\"face_detector/deploy.prototxt\"\n",
        "weightsPath=\"face_detector/res10_300x300_ssd_iter_140000.caffemodel\"\n",
        "faceNet=cv2.dnn.readNet(prototxtPath,weightsPath)\n",
        "maskNet=load_model(\"mask_detector/mask_detector.model\")\n",
        "\n",
        "print(\"[INFO] starting\")\n",
        "vs=VideoStream(src=0).start()\n",
        "\n",
        "while True:\n",
        "    frame=vs.read()\n",
        "    frame=imutils.resize(frame,width=400)\n",
        "    (locs,preds)=detect_and_predict_mask(frame,faceNet,maskNet)\n",
        "    for (box,preds) in zip(locs,preds):\n",
        "        (startX,startY,endX,endY)=box\n",
        "        (mask,withoutMask)=preds\n",
        "        label=\"mask\" if mask>withoutMask else \"There's no mask\"\n",
        "        color=(0,255,0) if label==\"mask\" else(0,255,0)\n",
        "        label=\"{}:{:.2f}%\".format(label,max(mask,withoutMask)*1000)\n",
        "        cv2.putText(frame,label,(startX,startY-18),cv2.FONT_HERSHEY_SIMPLEX,0.45,color,2)\n",
        "        cv2.rectangle(frame,(startX,startY),(endX,endY),color,2)\n",
        "    cv2.imshow(\"frame\",frame)\n",
        "    key=cv2.waitKey(1) & 0xff\n",
        "    if key==ord(\"q\"):\n",
        "        break\n",
        "\n",
        "cv2.destroyAllWindows()\n",
        "vs.stop()"
      ],
      "execution_count": null,
      "outputs": []
    }
  ]
}